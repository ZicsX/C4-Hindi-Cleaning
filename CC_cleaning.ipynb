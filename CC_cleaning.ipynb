{
 "cells": [
  {
   "cell_type": "code",
   "execution_count": null,
   "metadata": {},
   "outputs": [],
   "source": [
    "from datasets import load_dataset\n",
    "from multiprocessing import cpu_count\n",
    "from indusnlp import TextCleaner, HindiTextCleaner\n",
    "from clean import clean_text\n"
   ]
  },
  {
   "cell_type": "code",
   "execution_count": null,
   "metadata": {},
   "outputs": [],
   "source": [
    "url_pattern = r'https?://\\S+|www\\.\\S+'\n",
    "email_pattern = r'\\b[A-Za-z0-9._%+-]+@[A-Za-z0-9.-]+\\.[A-Z|a-z]{2,}\\b'\n",
    "phone_pattern = r'\\b\\d{10}\\b|\\b\\d{3}[-.\\s]?\\d{3}[-.\\s]?\\d{4}\\b|\\(\\d{3}\\)\\s?\\d{3}[-.\\s]?\\d{4}\\b|\\+\\d{2}\\s?\\d{10}\\b|\\+\\d{2}-\\d{10}\\b'\n",
    "# Configuration for the text cleaning\n",
    "config = [\n",
    "    # ('remove_patterns', [url_pattern,email_pattern,phone_pattern]),\n",
    "    (\"remove_line_with_keyword\",\n",
    "        [\n",
    "            \"Updated\", \"Published by\", \"Link Copied\",\n",
    "            \"Follow Us\", \"Next Article\", \"Followed\",\n",
    "            \"अमर उजाला,\", \"News in Hindi\", \"Hindi news\",\n",
    "            \"सब्सक्राइब करें\", \"डाउनलोड करें\", \"सब्सक्रिप्शन\",\n",
    "            \"Disclaimer\", \"एड फ्री अनुभव\", \"Get all Sports\",\n",
    "            \"ब्यूरो\", \"ब्यूरो,\", \"Get all India News\", \"Read the latest\",\n",
    "            \"हम डाटा संग्रह टूल्स\", \"लेटेस्ट अपडेट्स\",\n",
    "            \"सब्सक्राइब\",\n",
    "        ]),\n",
    "\n",
    "    # (\"remove_lines_with_repeated_seqs\",3),\n",
    "    (\"handle_whitespace\", None),\n",
    "    # ('remove_line_on_char_percentage',80),\n",
    "    (\"remove_redundant_lines\", None),\n",
    "    (\"remove_blank_lines\", None),\n",
    "]\n",
    "textcleaner = TextCleaner(config, clean_punctuation=False)\n",
    "hicleaner = HindiTextCleaner(transliterate=True)\n",
    "\n",
    "def clean_content(example):\n",
    "    text = example[\"text\"].strip()\n",
    "    cleaned_text = hicleaner(textcleaner(clean_text(text))) if text else \"\"\n",
    "    return {\"text\": cleaned_text}\n"
   ]
  },
  {
   "cell_type": "code",
   "execution_count": null,
   "metadata": {},
   "outputs": [],
   "source": [
    "dataset = load_dataset(\"zicsx/mC4-hindi\",split='train')\n",
    "dataset = dataset.remove_columns(['timestamp', 'url'])\n"
   ]
  },
  {
   "cell_type": "code",
   "execution_count": null,
   "metadata": {},
   "outputs": [],
   "source": [
    "# Apply the cleaning function\n",
    "dataset = dataset.map(clean_content,num_proc=cpu_count())\n"
   ]
  },
  {
   "cell_type": "code",
   "execution_count": null,
   "metadata": {},
   "outputs": [],
   "source": [
    "# Remove empty rows\n",
    "dataset = dataset.filter(lambda example: example[\"text\"] is not None and len(example[\"text\"]) > 0)\n"
   ]
  },
  {
   "cell_type": "code",
   "execution_count": null,
   "metadata": {},
   "outputs": [],
   "source": [
    "dataset.save_to_disk('mC4-hindi-Cleaned')\n",
    "dataset.push_to_hub('zicsx/mC4-hindi-Cleaned')\n"
   ]
  }
 ],
 "metadata": {
  "language_info": {
   "name": "python"
  }
 },
 "nbformat": 4,
 "nbformat_minor": 2
}
